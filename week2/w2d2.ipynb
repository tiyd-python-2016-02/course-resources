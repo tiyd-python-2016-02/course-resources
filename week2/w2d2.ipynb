{
 "cells": [
  {
   "cell_type": "markdown",
   "metadata": {},
   "source": [
    "## Sets"
   ]
  },
  {
   "cell_type": "code",
   "execution_count": 2,
   "metadata": {
    "collapsed": true
   },
   "outputs": [],
   "source": [
    "a_list = ['apple', 'apple', 32, 32, 'orange', 'orange', 'kiwi', 'kiwi', 32, 32]"
   ]
  },
  {
   "cell_type": "code",
   "execution_count": 4,
   "metadata": {
    "collapsed": false
   },
   "outputs": [],
   "source": [
    "my_set = set(a_list)"
   ]
  },
  {
   "cell_type": "code",
   "execution_count": 5,
   "metadata": {
    "collapsed": false
   },
   "outputs": [
    {
     "data": {
      "text/plain": [
       "{32, 'orange', 'kiwi', 'apple'}"
      ]
     },
     "execution_count": 5,
     "metadata": {},
     "output_type": "execute_result"
    }
   ],
   "source": [
    "my_set"
   ]
  },
  {
   "cell_type": "code",
   "execution_count": 6,
   "metadata": {
    "collapsed": true
   },
   "outputs": [],
   "source": [
    "my_set.add('monkey')"
   ]
  },
  {
   "cell_type": "code",
   "execution_count": 7,
   "metadata": {
    "collapsed": false
   },
   "outputs": [
    {
     "data": {
      "text/plain": [
       "{32, 'monkey', 'orange', 'kiwi', 'apple'}"
      ]
     },
     "execution_count": 7,
     "metadata": {},
     "output_type": "execute_result"
    }
   ],
   "source": [
    "my_set"
   ]
  },
  {
   "cell_type": "code",
   "execution_count": 8,
   "metadata": {
    "collapsed": true
   },
   "outputs": [],
   "source": [
    "my_set.add('monkey')"
   ]
  },
  {
   "cell_type": "code",
   "execution_count": 9,
   "metadata": {
    "collapsed": false
   },
   "outputs": [
    {
     "data": {
      "text/plain": [
       "{32, 'monkey', 'orange', 'kiwi', 'apple'}"
      ]
     },
     "execution_count": 9,
     "metadata": {},
     "output_type": "execute_result"
    }
   ],
   "source": [
    "my_set"
   ]
  },
  {
   "cell_type": "code",
   "execution_count": 10,
   "metadata": {
    "collapsed": true
   },
   "outputs": [],
   "source": [
    "my_frozen_set = frozenset(a_list)"
   ]
  },
  {
   "cell_type": "code",
   "execution_count": 11,
   "metadata": {
    "collapsed": false
   },
   "outputs": [
    {
     "data": {
      "text/plain": [
       "frozenset({32, 'orange', 'kiwi', 'apple'})"
      ]
     },
     "execution_count": 11,
     "metadata": {},
     "output_type": "execute_result"
    }
   ],
   "source": [
    "my_frozen_set"
   ]
  },
  {
   "cell_type": "code",
   "execution_count": 12,
   "metadata": {
    "collapsed": false
   },
   "outputs": [
    {
     "ename": "AttributeError",
     "evalue": "'frozenset' object has no attribute 'add'",
     "output_type": "error",
     "traceback": [
      "\u001b[0;31m---------------------------------------------------------------------------\u001b[0m",
      "\u001b[0;31mAttributeError\u001b[0m                            Traceback (most recent call last)",
      "\u001b[0;32m<ipython-input-12-1bde5c62e312>\u001b[0m in \u001b[0;36m<module>\u001b[0;34m()\u001b[0m\n\u001b[0;32m----> 1\u001b[0;31m \u001b[0mmy_frozen_set\u001b[0m\u001b[0;34m.\u001b[0m\u001b[0madd\u001b[0m\u001b[0;34m(\u001b[0m\u001b[0;34m'monkey'\u001b[0m\u001b[0;34m)\u001b[0m\u001b[0;34m\u001b[0m\u001b[0m\n\u001b[0m",
      "\u001b[0;31mAttributeError\u001b[0m: 'frozenset' object has no attribute 'add'"
     ]
    }
   ],
   "source": [
    "my_frozen_set.add('monkey')"
   ]
  },
  {
   "cell_type": "code",
   "execution_count": 13,
   "metadata": {
    "collapsed": true
   },
   "outputs": [],
   "source": [
    "unfrozen_set = set(my_frozen_set)"
   ]
  },
  {
   "cell_type": "code",
   "execution_count": 14,
   "metadata": {
    "collapsed": false
   },
   "outputs": [
    {
     "data": {
      "text/plain": [
       "{32, 'orange', 'kiwi', 'apple'}"
      ]
     },
     "execution_count": 14,
     "metadata": {},
     "output_type": "execute_result"
    }
   ],
   "source": [
    "unfrozen_set"
   ]
  },
  {
   "cell_type": "code",
   "execution_count": 15,
   "metadata": {
    "collapsed": true
   },
   "outputs": [],
   "source": [
    "unfrozen_set.add('monkey')"
   ]
  },
  {
   "cell_type": "code",
   "execution_count": 16,
   "metadata": {
    "collapsed": false
   },
   "outputs": [
    {
     "data": {
      "text/plain": [
       "{32, 'monkey', 'orange', 'kiwi', 'apple'}"
      ]
     },
     "execution_count": 16,
     "metadata": {},
     "output_type": "execute_result"
    }
   ],
   "source": [
    "unfrozen_set"
   ]
  },
  {
   "cell_type": "code",
   "execution_count": 18,
   "metadata": {
    "collapsed": false
   },
   "outputs": [
    {
     "data": {
      "text/plain": [
       "frozenset({32, 'orange', 'kiwi', 'apple'})"
      ]
     },
     "execution_count": 18,
     "metadata": {},
     "output_type": "execute_result"
    }
   ],
   "source": [
    "my_frozen_set"
   ]
  },
  {
   "cell_type": "code",
   "execution_count": 19,
   "metadata": {
    "collapsed": true
   },
   "outputs": [],
   "source": [
    "drinks = {'pina colada', 'manhattan', 'manhattan'}"
   ]
  },
  {
   "cell_type": "code",
   "execution_count": 20,
   "metadata": {
    "collapsed": false
   },
   "outputs": [
    {
     "data": {
      "text/plain": [
       "{'manhattan', 'pina colada'}"
      ]
     },
     "execution_count": 20,
     "metadata": {},
     "output_type": "execute_result"
    }
   ],
   "source": [
    "drinks"
   ]
  },
  {
   "cell_type": "code",
   "execution_count": 21,
   "metadata": {
    "collapsed": false
   },
   "outputs": [
    {
     "data": {
      "text/plain": [
       "2"
      ]
     },
     "execution_count": 21,
     "metadata": {},
     "output_type": "execute_result"
    }
   ],
   "source": [
    "len(drinks)"
   ]
  },
  {
   "cell_type": "code",
   "execution_count": 22,
   "metadata": {
    "collapsed": false
   },
   "outputs": [
    {
     "data": {
      "text/plain": [
       "4"
      ]
     },
     "execution_count": 22,
     "metadata": {},
     "output_type": "execute_result"
    }
   ],
   "source": [
    "len(my_frozen_set)"
   ]
  },
  {
   "cell_type": "code",
   "execution_count": 23,
   "metadata": {
    "collapsed": false
   },
   "outputs": [
    {
     "name": "stdout",
     "output_type": "stream",
     "text": [
      "pina colada\n",
      "manhattan\n"
     ]
    }
   ],
   "source": [
    "for drink in drinks:\n",
    "    print(drink)"
   ]
  },
  {
   "cell_type": "code",
   "execution_count": 24,
   "metadata": {
    "collapsed": true
   },
   "outputs": [],
   "source": [
    "my_set = set({'pina colada', 'manhattan'})"
   ]
  },
  {
   "cell_type": "code",
   "execution_count": 25,
   "metadata": {
    "collapsed": false
   },
   "outputs": [
    {
     "data": {
      "text/plain": [
       "{'manhattan', 'pina colada'}"
      ]
     },
     "execution_count": 25,
     "metadata": {},
     "output_type": "execute_result"
    }
   ],
   "source": [
    "my_set"
   ]
  },
  {
   "cell_type": "code",
   "execution_count": 29,
   "metadata": {
    "collapsed": false
   },
   "outputs": [
    {
     "data": {
      "text/plain": [
       "{'first value', frozenset({'thign1', 'thing2'}), 'another value'}"
      ]
     },
     "execution_count": 29,
     "metadata": {},
     "output_type": "execute_result"
    }
   ],
   "source": [
    "{'first value', frozenset({'thign1', 'thing2'}), 'another value'}"
   ]
  },
  {
   "cell_type": "code",
   "execution_count": 30,
   "metadata": {
    "collapsed": false
   },
   "outputs": [
    {
     "data": {
      "text/plain": [
       "(1, 1, 1, 1)"
      ]
     },
     "execution_count": 30,
     "metadata": {},
     "output_type": "execute_result"
    }
   ],
   "source": [
    "(1, 1, 1, 1)"
   ]
  },
  {
   "cell_type": "code",
   "execution_count": 31,
   "metadata": {
    "collapsed": false
   },
   "outputs": [
    {
     "data": {
      "text/plain": [
       "(1,)"
      ]
     },
     "execution_count": 31,
     "metadata": {},
     "output_type": "execute_result"
    }
   ],
   "source": [
    "tuple(set((1, 1, 1, 1)))"
   ]
  },
  {
   "cell_type": "code",
   "execution_count": 41,
   "metadata": {
    "collapsed": true
   },
   "outputs": [],
   "source": [
    "set1 = set([\"cat\", \"dog\"])     # Initialize set from a list\n",
    "set2 = set([\"dog\", \"mouse\"])\n",
    "set3 = set1 & set2             # Intersection\n",
    "set4 = set1 | set2             # Union\n",
    "set5 = set1 - set2             # Set difference\n",
    "set6 = set1 ^ set2             # Symmetric difference"
   ]
  },
  {
   "cell_type": "code",
   "execution_count": 33,
   "metadata": {
    "collapsed": false
   },
   "outputs": [
    {
     "data": {
      "text/plain": [
       "{'cat', 'dog'}"
      ]
     },
     "execution_count": 33,
     "metadata": {},
     "output_type": "execute_result"
    }
   ],
   "source": [
    "set1"
   ]
  },
  {
   "cell_type": "code",
   "execution_count": 34,
   "metadata": {
    "collapsed": false
   },
   "outputs": [
    {
     "data": {
      "text/plain": [
       "{'dog', 'mouse'}"
      ]
     },
     "execution_count": 34,
     "metadata": {},
     "output_type": "execute_result"
    }
   ],
   "source": [
    "set2"
   ]
  },
  {
   "cell_type": "code",
   "execution_count": 35,
   "metadata": {
    "collapsed": false
   },
   "outputs": [
    {
     "data": {
      "text/plain": [
       "{'dog'}"
      ]
     },
     "execution_count": 35,
     "metadata": {},
     "output_type": "execute_result"
    }
   ],
   "source": [
    "set3"
   ]
  },
  {
   "cell_type": "code",
   "execution_count": 36,
   "metadata": {
    "collapsed": false
   },
   "outputs": [
    {
     "data": {
      "text/plain": [
       "{'cat', 'dog', 'mouse'}"
      ]
     },
     "execution_count": 36,
     "metadata": {},
     "output_type": "execute_result"
    }
   ],
   "source": [
    "set4"
   ]
  },
  {
   "cell_type": "code",
   "execution_count": 42,
   "metadata": {
    "collapsed": false
   },
   "outputs": [
    {
     "data": {
      "text/plain": [
       "{'cat'}"
      ]
     },
     "execution_count": 42,
     "metadata": {},
     "output_type": "execute_result"
    }
   ],
   "source": [
    "set5"
   ]
  },
  {
   "cell_type": "code",
   "execution_count": 38,
   "metadata": {
    "collapsed": false
   },
   "outputs": [
    {
     "data": {
      "text/plain": [
       "{'cat', 'mouse'}"
      ]
     },
     "execution_count": 38,
     "metadata": {},
     "output_type": "execute_result"
    }
   ],
   "source": [
    "set6"
   ]
  },
  {
   "cell_type": "code",
   "execution_count": 39,
   "metadata": {
    "collapsed": false
   },
   "outputs": [
    {
     "data": {
      "text/plain": [
       "{'cat', 'dog'}"
      ]
     },
     "execution_count": 39,
     "metadata": {},
     "output_type": "execute_result"
    }
   ],
   "source": [
    "set1"
   ]
  },
  {
   "cell_type": "code",
   "execution_count": 40,
   "metadata": {
    "collapsed": false
   },
   "outputs": [
    {
     "data": {
      "text/plain": [
       "{'dog', 'mouse'}"
      ]
     },
     "execution_count": 40,
     "metadata": {},
     "output_type": "execute_result"
    }
   ],
   "source": [
    "set2"
   ]
  },
  {
   "cell_type": "markdown",
   "metadata": {},
   "source": [
    "## List Comprehensions"
   ]
  },
  {
   "cell_type": "code",
   "execution_count": 44,
   "metadata": {
    "collapsed": true
   },
   "outputs": [],
   "source": [
    "iterative_squares = []\n",
    "for x in range(10):\n",
    "    if x != 5:\n",
    "        iterative_squares.append(x ** 2)"
   ]
  },
  {
   "cell_type": "code",
   "execution_count": 60,
   "metadata": {
    "collapsed": false
   },
   "outputs": [
    {
     "data": {
      "text/plain": [
       "[0, 1, 4, 9, 16, 36, 49, 64, 81]"
      ]
     },
     "execution_count": 60,
     "metadata": {},
     "output_type": "execute_result"
    }
   ],
   "source": [
    "squares"
   ]
  },
  {
   "cell_type": "code",
   "execution_count": 46,
   "metadata": {
    "collapsed": false
   },
   "outputs": [
    {
     "data": {
      "text/plain": [
       "[0, 1, 4, 9, 16, 25, 36, 49, 64, 81]"
      ]
     },
     "execution_count": 46,
     "metadata": {},
     "output_type": "execute_result"
    }
   ],
   "source": [
    "iterative_squares"
   ]
  },
  {
   "cell_type": "code",
   "execution_count": 59,
   "metadata": {
    "collapsed": true
   },
   "outputs": [],
   "source": [
    "squares = [x**2 for x in range(10) if x != 5]"
   ]
  },
  {
   "cell_type": "code",
   "execution_count": 48,
   "metadata": {
    "collapsed": true
   },
   "outputs": [],
   "source": [
    "def convert_to_string_and_add_puppy(value):\n",
    "    return '{} puppy'.format(value)"
   ]
  },
  {
   "cell_type": "code",
   "execution_count": 57,
   "metadata": {
    "collapsed": true
   },
   "outputs": [],
   "source": [
    "puppies = [convert_to_string_and_add_puppy(value)\n",
    "           for value in ['yellow', 'blue', 'green'] if value != 'blue']"
   ]
  },
  {
   "cell_type": "code",
   "execution_count": 58,
   "metadata": {
    "collapsed": false
   },
   "outputs": [
    {
     "data": {
      "text/plain": [
       "['yellow puppy', 'green puppy']"
      ]
     },
     "execution_count": 58,
     "metadata": {},
     "output_type": "execute_result"
    }
   ],
   "source": [
    "puppies"
   ]
  },
  {
   "cell_type": "code",
   "execution_count": 55,
   "metadata": {
    "collapsed": true
   },
   "outputs": [],
   "source": [
    "puppies = []\n",
    "for value in ['yellow', 'blue', 'green']:\n",
    "    if value != 'blue':\n",
    "        puppies.append(convert_to_string_and_add_puppy(value))"
   ]
  },
  {
   "cell_type": "code",
   "execution_count": 56,
   "metadata": {
    "collapsed": false
   },
   "outputs": [
    {
     "data": {
      "text/plain": [
       "['yellow puppy', 'green puppy']"
      ]
     },
     "execution_count": 56,
     "metadata": {},
     "output_type": "execute_result"
    }
   ],
   "source": [
    "puppies"
   ]
  },
  {
   "cell_type": "code",
   "execution_count": 61,
   "metadata": {
    "collapsed": false
   },
   "outputs": [
    {
     "data": {
      "text/plain": [
       "[(0, 0),\n",
       " (0, 1),\n",
       " (0, 4),\n",
       " (0, 9),\n",
       " (0, 16),\n",
       " (0, 25),\n",
       " (0, 36),\n",
       " (0, 49),\n",
       " (0, 64),\n",
       " (0, 81),\n",
       " (0, 100),\n",
       " (0, 121),\n",
       " (0, 144),\n",
       " (0, 169),\n",
       " (0, 196),\n",
       " (0, 225),\n",
       " (0, 256),\n",
       " (0, 289),\n",
       " (0, 324),\n",
       " (0, 361),\n",
       " (1, 0),\n",
       " (1, 1),\n",
       " (1, 4),\n",
       " (1, 9),\n",
       " (1, 16),\n",
       " (1, 25),\n",
       " (1, 36),\n",
       " (1, 49),\n",
       " (1, 64),\n",
       " (1, 81),\n",
       " (1, 100),\n",
       " (1, 121),\n",
       " (1, 144),\n",
       " (1, 169),\n",
       " (1, 196),\n",
       " (1, 225),\n",
       " (1, 256),\n",
       " (1, 289),\n",
       " (1, 324),\n",
       " (1, 361),\n",
       " (4, 0),\n",
       " (4, 1),\n",
       " (4, 4),\n",
       " (4, 9),\n",
       " (4, 16),\n",
       " (4, 25),\n",
       " (4, 36),\n",
       " (4, 49),\n",
       " (4, 64),\n",
       " (4, 81),\n",
       " (4, 100),\n",
       " (4, 121),\n",
       " (4, 144),\n",
       " (4, 169),\n",
       " (4, 196),\n",
       " (4, 225),\n",
       " (4, 256),\n",
       " (4, 289),\n",
       " (4, 324),\n",
       " (4, 361),\n",
       " (9, 0),\n",
       " (9, 1),\n",
       " (9, 4),\n",
       " (9, 9),\n",
       " (9, 16),\n",
       " (9, 25),\n",
       " (9, 36),\n",
       " (9, 49),\n",
       " (9, 64),\n",
       " (9, 81),\n",
       " (9, 100),\n",
       " (9, 121),\n",
       " (9, 144),\n",
       " (9, 169),\n",
       " (9, 196),\n",
       " (9, 225),\n",
       " (9, 256),\n",
       " (9, 289),\n",
       " (9, 324),\n",
       " (9, 361),\n",
       " (16, 0),\n",
       " (16, 1),\n",
       " (16, 4),\n",
       " (16, 9),\n",
       " (16, 16),\n",
       " (16, 25),\n",
       " (16, 36),\n",
       " (16, 49),\n",
       " (16, 64),\n",
       " (16, 81),\n",
       " (16, 100),\n",
       " (16, 121),\n",
       " (16, 144),\n",
       " (16, 169),\n",
       " (16, 196),\n",
       " (16, 225),\n",
       " (16, 256),\n",
       " (16, 289),\n",
       " (16, 324),\n",
       " (16, 361),\n",
       " (25, 0),\n",
       " (25, 1),\n",
       " (25, 4),\n",
       " (25, 9),\n",
       " (25, 16),\n",
       " (25, 25),\n",
       " (25, 36),\n",
       " (25, 49),\n",
       " (25, 64),\n",
       " (25, 81),\n",
       " (25, 100),\n",
       " (25, 121),\n",
       " (25, 144),\n",
       " (25, 169),\n",
       " (25, 196),\n",
       " (25, 225),\n",
       " (25, 256),\n",
       " (25, 289),\n",
       " (25, 324),\n",
       " (25, 361),\n",
       " (36, 0),\n",
       " (36, 1),\n",
       " (36, 4),\n",
       " (36, 9),\n",
       " (36, 16),\n",
       " (36, 25),\n",
       " (36, 36),\n",
       " (36, 49),\n",
       " (36, 64),\n",
       " (36, 81),\n",
       " (36, 100),\n",
       " (36, 121),\n",
       " (36, 144),\n",
       " (36, 169),\n",
       " (36, 196),\n",
       " (36, 225),\n",
       " (36, 256),\n",
       " (36, 289),\n",
       " (36, 324),\n",
       " (36, 361),\n",
       " (49, 0),\n",
       " (49, 1),\n",
       " (49, 4),\n",
       " (49, 9),\n",
       " (49, 16),\n",
       " (49, 25),\n",
       " (49, 36),\n",
       " (49, 49),\n",
       " (49, 64),\n",
       " (49, 81),\n",
       " (49, 100),\n",
       " (49, 121),\n",
       " (49, 144),\n",
       " (49, 169),\n",
       " (49, 196),\n",
       " (49, 225),\n",
       " (49, 256),\n",
       " (49, 289),\n",
       " (49, 324),\n",
       " (49, 361),\n",
       " (64, 0),\n",
       " (64, 1),\n",
       " (64, 4),\n",
       " (64, 9),\n",
       " (64, 16),\n",
       " (64, 25),\n",
       " (64, 36),\n",
       " (64, 49),\n",
       " (64, 64),\n",
       " (64, 81),\n",
       " (64, 100),\n",
       " (64, 121),\n",
       " (64, 144),\n",
       " (64, 169),\n",
       " (64, 196),\n",
       " (64, 225),\n",
       " (64, 256),\n",
       " (64, 289),\n",
       " (64, 324),\n",
       " (64, 361),\n",
       " (81, 0),\n",
       " (81, 1),\n",
       " (81, 4),\n",
       " (81, 9),\n",
       " (81, 16),\n",
       " (81, 25),\n",
       " (81, 36),\n",
       " (81, 49),\n",
       " (81, 64),\n",
       " (81, 81),\n",
       " (81, 100),\n",
       " (81, 121),\n",
       " (81, 144),\n",
       " (81, 169),\n",
       " (81, 196),\n",
       " (81, 225),\n",
       " (81, 256),\n",
       " (81, 289),\n",
       " (81, 324),\n",
       " (81, 361)]"
      ]
     },
     "execution_count": 61,
     "metadata": {},
     "output_type": "execute_result"
    }
   ],
   "source": [
    "[(x**2, y**2) for x in range(10) for y in range(20)]"
   ]
  },
  {
   "cell_type": "code",
   "execution_count": 62,
   "metadata": {
    "collapsed": false
   },
   "outputs": [
    {
     "name": "stdout",
     "output_type": "stream",
     "text": [
      "(0, 0)\n",
      "(0, 1)\n",
      "(0, 4)\n",
      "(0, 9)\n",
      "(0, 16)\n",
      "(0, 25)\n",
      "(0, 36)\n",
      "(0, 49)\n",
      "(0, 64)\n",
      "(0, 81)\n",
      "(0, 100)\n",
      "(0, 121)\n",
      "(0, 144)\n",
      "(0, 169)\n",
      "(0, 196)\n",
      "(0, 225)\n",
      "(0, 256)\n",
      "(0, 289)\n",
      "(0, 324)\n",
      "(0, 361)\n",
      "(1, 0)\n",
      "(1, 1)\n",
      "(1, 4)\n",
      "(1, 9)\n",
      "(1, 16)\n",
      "(1, 25)\n",
      "(1, 36)\n",
      "(1, 49)\n",
      "(1, 64)\n",
      "(1, 81)\n",
      "(1, 100)\n",
      "(1, 121)\n",
      "(1, 144)\n",
      "(1, 169)\n",
      "(1, 196)\n",
      "(1, 225)\n",
      "(1, 256)\n",
      "(1, 289)\n",
      "(1, 324)\n",
      "(1, 361)\n",
      "(4, 0)\n",
      "(4, 1)\n",
      "(4, 4)\n",
      "(4, 9)\n",
      "(4, 16)\n",
      "(4, 25)\n",
      "(4, 36)\n",
      "(4, 49)\n",
      "(4, 64)\n",
      "(4, 81)\n",
      "(4, 100)\n",
      "(4, 121)\n",
      "(4, 144)\n",
      "(4, 169)\n",
      "(4, 196)\n",
      "(4, 225)\n",
      "(4, 256)\n",
      "(4, 289)\n",
      "(4, 324)\n",
      "(4, 361)\n",
      "(9, 0)\n",
      "(9, 1)\n",
      "(9, 4)\n",
      "(9, 9)\n",
      "(9, 16)\n",
      "(9, 25)\n",
      "(9, 36)\n",
      "(9, 49)\n",
      "(9, 64)\n",
      "(9, 81)\n",
      "(9, 100)\n",
      "(9, 121)\n",
      "(9, 144)\n",
      "(9, 169)\n",
      "(9, 196)\n",
      "(9, 225)\n",
      "(9, 256)\n",
      "(9, 289)\n",
      "(9, 324)\n",
      "(9, 361)\n",
      "(16, 0)\n",
      "(16, 1)\n",
      "(16, 4)\n",
      "(16, 9)\n",
      "(16, 16)\n",
      "(16, 25)\n",
      "(16, 36)\n",
      "(16, 49)\n",
      "(16, 64)\n",
      "(16, 81)\n",
      "(16, 100)\n",
      "(16, 121)\n",
      "(16, 144)\n",
      "(16, 169)\n",
      "(16, 196)\n",
      "(16, 225)\n",
      "(16, 256)\n",
      "(16, 289)\n",
      "(16, 324)\n",
      "(16, 361)\n",
      "(25, 0)\n",
      "(25, 1)\n",
      "(25, 4)\n",
      "(25, 9)\n",
      "(25, 16)\n",
      "(25, 25)\n",
      "(25, 36)\n",
      "(25, 49)\n",
      "(25, 64)\n",
      "(25, 81)\n",
      "(25, 100)\n",
      "(25, 121)\n",
      "(25, 144)\n",
      "(25, 169)\n",
      "(25, 196)\n",
      "(25, 225)\n",
      "(25, 256)\n",
      "(25, 289)\n",
      "(25, 324)\n",
      "(25, 361)\n",
      "(36, 0)\n",
      "(36, 1)\n",
      "(36, 4)\n",
      "(36, 9)\n",
      "(36, 16)\n",
      "(36, 25)\n",
      "(36, 36)\n",
      "(36, 49)\n",
      "(36, 64)\n",
      "(36, 81)\n",
      "(36, 100)\n",
      "(36, 121)\n",
      "(36, 144)\n",
      "(36, 169)\n",
      "(36, 196)\n",
      "(36, 225)\n",
      "(36, 256)\n",
      "(36, 289)\n",
      "(36, 324)\n",
      "(36, 361)\n",
      "(49, 0)\n",
      "(49, 1)\n",
      "(49, 4)\n",
      "(49, 9)\n",
      "(49, 16)\n",
      "(49, 25)\n",
      "(49, 36)\n",
      "(49, 49)\n",
      "(49, 64)\n",
      "(49, 81)\n",
      "(49, 100)\n",
      "(49, 121)\n",
      "(49, 144)\n",
      "(49, 169)\n",
      "(49, 196)\n",
      "(49, 225)\n",
      "(49, 256)\n",
      "(49, 289)\n",
      "(49, 324)\n",
      "(49, 361)\n",
      "(64, 0)\n",
      "(64, 1)\n",
      "(64, 4)\n",
      "(64, 9)\n",
      "(64, 16)\n",
      "(64, 25)\n",
      "(64, 36)\n",
      "(64, 49)\n",
      "(64, 64)\n",
      "(64, 81)\n",
      "(64, 100)\n",
      "(64, 121)\n",
      "(64, 144)\n",
      "(64, 169)\n",
      "(64, 196)\n",
      "(64, 225)\n",
      "(64, 256)\n",
      "(64, 289)\n",
      "(64, 324)\n",
      "(64, 361)\n",
      "(81, 0)\n",
      "(81, 1)\n",
      "(81, 4)\n",
      "(81, 9)\n",
      "(81, 16)\n",
      "(81, 25)\n",
      "(81, 36)\n",
      "(81, 49)\n",
      "(81, 64)\n",
      "(81, 81)\n",
      "(81, 100)\n",
      "(81, 121)\n",
      "(81, 144)\n",
      "(81, 169)\n",
      "(81, 196)\n",
      "(81, 225)\n",
      "(81, 256)\n",
      "(81, 289)\n",
      "(81, 324)\n",
      "(81, 361)\n"
     ]
    }
   ],
   "source": [
    "squares = []\n",
    "for x in range(10):\n",
    "    for y in range(20):\n",
    "        squares.append((x ** 2, y ** 2))"
   ]
  },
  {
   "cell_type": "code",
   "execution_count": 65,
   "metadata": {
    "collapsed": false
   },
   "outputs": [
    {
     "data": {
      "text/plain": [
       "{'0': 0, '1': 1, '2': 4, '4': 16}"
      ]
     },
     "execution_count": 65,
     "metadata": {},
     "output_type": "execute_result"
    }
   ],
   "source": [
    "{str(n): n ** 2 for n in range(5) if n != 3}"
   ]
  },
  {
   "cell_type": "code",
   "execution_count": 70,
   "metadata": {
    "collapsed": false
   },
   "outputs": [],
   "source": [
    "squared_uniques = {x ** 2 for x in [1, 1, 1, 2, 2, 2, 3, 3, 3] if x != 2}"
   ]
  },
  {
   "cell_type": "code",
   "execution_count": 71,
   "metadata": {
    "collapsed": false
   },
   "outputs": [
    {
     "data": {
      "text/plain": [
       "{1, 9}"
      ]
     },
     "execution_count": 71,
     "metadata": {},
     "output_type": "execute_result"
    }
   ],
   "source": [
    "squared_uniques"
   ]
  },
  {
   "cell_type": "code",
   "execution_count": null,
   "metadata": {
    "collapsed": true
   },
   "outputs": [],
   "source": []
  }
 ],
 "metadata": {
  "kernelspec": {
   "display_name": "Python 3",
   "language": "python",
   "name": "python3"
  },
  "language_info": {
   "codemirror_mode": {
    "name": "ipython",
    "version": 3
   },
   "file_extension": ".py",
   "mimetype": "text/x-python",
   "name": "python",
   "nbconvert_exporter": "python",
   "pygments_lexer": "ipython3",
   "version": "3.5.1"
  }
 },
 "nbformat": 4,
 "nbformat_minor": 0
}
