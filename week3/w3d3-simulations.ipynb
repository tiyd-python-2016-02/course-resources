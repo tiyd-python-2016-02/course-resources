{
 "cells": [
  {
   "cell_type": "markdown",
   "metadata": {},
   "source": [
    "## Dice Rolls"
   ]
  },
  {
   "cell_type": "code",
   "execution_count": 1,
   "metadata": {
    "collapsed": true
   },
   "outputs": [],
   "source": [
    "import random\n",
    "\n",
    "def roll_die():\n",
    "    return random.randint(1, 6)\n",
    "\n",
    "def roll_n_dice(n):\n",
    "    return sum(roll_die() for _ in range(n))"
   ]
  },
  {
   "cell_type": "code",
   "execution_count": 2,
   "metadata": {
    "collapsed": false
   },
   "outputs": [
    {
     "data": {
      "text/plain": [
       "3"
      ]
     },
     "execution_count": 2,
     "metadata": {},
     "output_type": "execute_result"
    }
   ],
   "source": [
    "roll_die()"
   ]
  },
  {
   "cell_type": "code",
   "execution_count": 3,
   "metadata": {
    "collapsed": false
   },
   "outputs": [
    {
     "data": {
      "text/plain": [
       "7"
      ]
     },
     "execution_count": 3,
     "metadata": {},
     "output_type": "execute_result"
    }
   ],
   "source": [
    "roll_n_dice(3)"
   ]
  },
  {
   "cell_type": "code",
   "execution_count": 4,
   "metadata": {
    "collapsed": true
   },
   "outputs": [],
   "source": [
    "n = 20\n",
    "data = [roll_n_dice(n) for _ in range(10000)]\n",
    "\n",
    "import matplotlib.pyplot as plt\n",
    "plt.hist(data, bins=range(n, 6*n+2))\n",
    "plt.xlim(n, 6*n+1)\n",
    "plt.show()"
   ]
  },
  {
   "cell_type": "code",
   "execution_count": 5,
   "metadata": {
    "collapsed": false
   },
   "outputs": [
    {
     "name": "stdout",
     "output_type": "stream",
     "text": [
      "69.896\n",
      "7.674833829304107\n"
     ]
    }
   ],
   "source": [
    "import statistics\n",
    "print(statistics.mean(data))\n",
    "print(statistics.stdev(data))"
   ]
  },
  {
   "cell_type": "code",
   "execution_count": 6,
   "metadata": {
    "collapsed": true
   },
   "outputs": [],
   "source": [
    "def trial_roll(target=12, num_dice=3, num_trials=100):\n",
    "    \"\"\"\n",
    "    Returns the ratio of hits/total rolls\n",
    "    \"\"\"\n",
    "    rolls = [roll_n_dice(num_dice) for _ in range(num_trials)]\n",
    "    hits = len([roll for roll in rolls if roll >= target])\n",
    "    return hits / num_trials\n",
    "\n",
    "x_values = range(1, 11)\n",
    "y_values = [trial_roll(num_dice=x) for x in x_values]"
   ]
  },
  {
   "cell_type": "code",
   "execution_count": 7,
   "metadata": {
    "collapsed": true
   },
   "outputs": [],
   "source": [
    "plt.scatter(x_values, y_values)\n",
    "plt.show()"
   ]
  },
  {
   "cell_type": "code",
   "execution_count": 8,
   "metadata": {
    "collapsed": false
   },
   "outputs": [
    {
     "name": "stdout",
     "output_type": "stream",
     "text": [
      "785264 hits/1000000 trials = 0.785264\n",
      "simulated pi: 3.141056\n",
      "pi: 3.141592653589793\n"
     ]
    }
   ],
   "source": [
    "import math\n",
    "import random\n",
    "\n",
    "def distance(x, y):\n",
    "    return math.sqrt(x ** 2 + y ** 2)\n",
    "\n",
    "def is_inside(x, y, radius):\n",
    "    return distance(x, y) <= radius\n",
    "\n",
    "def simulate_point(radius):\n",
    "    x = random.uniform(-radius, radius)\n",
    "    y = random.uniform(-radius, radius)\n",
    "    return x, y\n",
    "\n",
    "def run_simulation():\n",
    "    hits = 0\n",
    "    trials = 1000000\n",
    "    radius = 0.5\n",
    "    for _ in range(trials):\n",
    "        x, y = simulate_point(radius)\n",
    "        # print(x, y)\n",
    "        if is_inside(x, y, radius):\n",
    "            hits += 1\n",
    "    print(\"{} hits/{} trials = {}\".format(hits, trials, hits / trials))\n",
    "    print(\"simulated pi: {}\".format((hits / trials) / radius ** 2))\n",
    "    print(\"pi: {}\".format(math.pi))\n",
    "\n",
    "run_simulation()"
   ]
  },
  {
   "cell_type": "code",
   "execution_count": null,
   "metadata": {
    "collapsed": true
   },
   "outputs": [],
   "source": []
  }
 ],
 "metadata": {
  "kernelspec": {
   "display_name": "Python 3",
   "language": "python",
   "name": "python3"
  },
  "language_info": {
   "codemirror_mode": {
    "name": "ipython",
    "version": 3
   },
   "file_extension": ".py",
   "mimetype": "text/x-python",
   "name": "python",
   "nbconvert_exporter": "python",
   "pygments_lexer": "ipython3",
   "version": "3.5.1"
  }
 },
 "nbformat": 4,
 "nbformat_minor": 0
}
