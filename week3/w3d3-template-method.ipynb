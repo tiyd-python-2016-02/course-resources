{
 "cells": [
  {
   "cell_type": "code",
   "execution_count": 1,
   "metadata": {
    "collapsed": true
   },
   "outputs": [],
   "source": [
    "class Game:\n",
    "    def __init__(self, number_of_players):\n",
    "        self.number_of_players\n",
    "    \n",
    "    def play(self):\n",
    "        while not self.is_game_over():\n",
    "            self.handle_input()\n",
    "            self.update()\n",
    "            self.render()\n",
    "    \n",
    "    def is_game_over(self):\n",
    "        pass\n",
    "    \n",
    "    def handle_input(self):\n",
    "        pass\n",
    "    \n",
    "    def update(self):\n",
    "        pass\n",
    "    \n",
    "    def render(self):\n",
    "        pass"
   ]
  },
  {
   "cell_type": "code",
   "execution_count": 6,
   "metadata": {
    "collapsed": false
   },
   "outputs": [],
   "source": [
    "import random\n",
    "\n",
    "class NumberGuessingGame(Game):\n",
    "    def __init__(self):\n",
    "        self.winning_number = random.randint(1, 10)\n",
    "        self.guessed_number = -1\n",
    "        self.guessed_attempts = 0\n",
    "        self.total_allowed_attempts = 3\n",
    "\n",
    "    def is_game_over(self):\n",
    "        return self.guessed_number == self.winning_number or self.guessed_attempts > self.total_allowed_attempts\n",
    "    \n",
    "    def handle_input(self):\n",
    "        self.guessed_number = int(input('Guess a number: '))\n",
    "    \n",
    "    def update(self):\n",
    "        self.guessed_attempts += 1\n",
    "    \n",
    "    def render(self):\n",
    "        if self.is_game_over():\n",
    "            print('you won or lost')\n",
    "        else:\n",
    "            print('you made a good guess or a bad guess')"
   ]
  },
  {
   "cell_type": "code",
   "execution_count": 7,
   "metadata": {
    "collapsed": false
   },
   "outputs": [
    {
     "name": "stdout",
     "output_type": "stream",
     "text": [
      "Guess a number: 5\n",
      "you made a good guess or a bad guess\n",
      "Guess a number: 5\n",
      "you made a good guess or a bad guess\n",
      "Guess a number: 5\n",
      "you made a good guess or a bad guess\n",
      "Guess a number: 5\n",
      "you won or lost\n"
     ]
    }
   ],
   "source": [
    "NumberGuessingGame().play()"
   ]
  },
  {
   "cell_type": "code",
   "execution_count": null,
   "metadata": {
    "collapsed": true
   },
   "outputs": [],
   "source": []
  }
 ],
 "metadata": {
  "kernelspec": {
   "display_name": "Python 3",
   "language": "python",
   "name": "python3"
  },
  "language_info": {
   "codemirror_mode": {
    "name": "ipython",
    "version": 3
   },
   "file_extension": ".py",
   "mimetype": "text/x-python",
   "name": "python",
   "nbconvert_exporter": "python",
   "pygments_lexer": "ipython3",
   "version": "3.5.1"
  }
 },
 "nbformat": 4,
 "nbformat_minor": 0
}
